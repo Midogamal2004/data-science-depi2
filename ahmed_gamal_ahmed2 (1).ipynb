{
 "cells": [
  {
   "cell_type": "markdown",
   "id": "799c7ef0-ff5c-4918-83ea-069c3dd9a59c",
   "metadata": {},
   "source": [
    "# question 1 "
   ]
  },
  {
   "cell_type": "code",
   "execution_count": 5,
   "id": "50182a89-dff9-403c-b698-046f06852006",
   "metadata": {},
   "outputs": [
    {
     "name": "stdout",
     "output_type": "stream",
     "text": [
      "[5, 6, 7, 8, 9, 10]\n"
     ]
    }
   ],
   "source": [
    "lst1 = [5,8,6]\n",
    "lst2 = [9,7,10]\n",
    "lst1.extend(lst2)\n",
    "for i in range (0,len(lst1)):\n",
    " for j in range(i+1,len(lst1)):\n",
    "  if lst1[i] >= lst1[j]:\n",
    "   lst1[i],lst1[j]=lst1[j],lst1[i]\n",
    "\n",
    "print(lst1)"
   ]
  },
  {
   "cell_type": "markdown",
   "id": "e7b3b7e6-2d9b-451e-86e4-27e8fcd6762c",
   "metadata": {},
   "source": [
    "#  question 2 "
   ]
  },
  {
   "cell_type": "code",
   "execution_count": 15,
   "id": "a47efce6-1a2b-46d3-948b-ef739265e2e3",
   "metadata": {},
   "outputs": [
    {
     "name": "stdout",
     "output_type": "stream",
     "text": [
      "xxxyyyzzzddd\n"
     ]
    }
   ],
   "source": [
    "STR = \"xyzd\"\n",
    "n = 3\n",
    "str2 = \"\"\n",
    "for char in STR:\n",
    "    str2 += char*n\n",
    "    \n",
    "print(str2)\n"
   ]
  },
  {
   "cell_type": "code",
   "execution_count": null,
   "id": "28a98484-93ba-44d0-bd87-dd6d8bc97135",
   "metadata": {},
   "outputs": [],
   "source": []
  }
 ],
 "metadata": {
  "kernelspec": {
   "display_name": "Python 3 (ipykernel)",
   "language": "python",
   "name": "python3"
  },
  "language_info": {
   "codemirror_mode": {
    "name": "ipython",
    "version": 3
   },
   "file_extension": ".py",
   "mimetype": "text/x-python",
   "name": "python",
   "nbconvert_exporter": "python",
   "pygments_lexer": "ipython3",
   "version": "3.11.7"
  }
 },
 "nbformat": 4,
 "nbformat_minor": 5
}
