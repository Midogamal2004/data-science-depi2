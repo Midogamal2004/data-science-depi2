{
 "cells": [
  {
   "cell_type": "markdown",
   "id": "b460041f-7af6-42f7-991e-c3fe9fe0cc14",
   "metadata": {},
   "source": [
    "# quistion 1"
   ]
  },
  {
   "cell_type": "code",
   "execution_count": null,
   "id": "31f2a6e0-0240-4e3b-a88e-95c6161d0db9",
   "metadata": {},
   "outputs": [],
   "source": []
  },
  {
   "cell_type": "code",
   "execution_count": 27,
   "id": "dbe6c3d2-5a68-4277-aa71-008d75a80a05",
   "metadata": {},
   "outputs": [
    {
     "data": {
      "text/plain": [
       "3"
      ]
     },
     "execution_count": 27,
     "metadata": {},
     "output_type": "execute_result"
    }
   ],
   "source": [
    "def count_vowels(STR) : \n",
    "    count = 0\n",
    "    char_list = [\"a\", \"e\", \"i\", \"o\", \"u\"]\n",
    "    for char in STR : \n",
    "        if char in char_list : \n",
    "            count += 1\n",
    "            \n",
    "    return count \n",
    "\n",
    "\n",
    "STR = \"hello world\"\n",
    "count_vowels(STR)"
   ]
  },
  {
   "cell_type": "code",
   "execution_count": null,
   "id": "f010a37d-567c-4ec4-926b-8eb35922937b",
   "metadata": {},
   "outputs": [],
   "source": []
  },
  {
   "cell_type": "markdown",
   "id": "7a6c0bb4-2d59-4d2f-9b34-a81267bf460f",
   "metadata": {},
   "source": [
    "# quistion 2 "
   ]
  },
  {
   "cell_type": "code",
   "execution_count": 59,
   "id": "29f94c05-292b-4788-8c56-09156e2e38be",
   "metadata": {},
   "outputs": [
    {
     "name": "stdout",
     "output_type": "stream",
     "text": [
      "8\n"
     ]
    }
   ],
   "source": [
    "def maximum(list1) : \n",
    "    max_num = list1[0]\n",
    "    for i in range(0,len(list1) - 1) : \n",
    "        if  list1[i] > max_num : \n",
    "            max_num = list1[i] \n",
    "        elif max_num < list1[i+1] : \n",
    "            max_num = list1[i+1]\n",
    "    \n",
    "    return(max_num) \n",
    "\n",
    "list1 = [3, 5, 2, 8, 1]\n",
    "print(maximum(list1))"
   ]
  },
  {
   "cell_type": "code",
   "execution_count": null,
   "id": "66f4c710-8945-4ffc-acbc-32491baf57b1",
   "metadata": {},
   "outputs": [],
   "source": []
  },
  {
   "cell_type": "code",
   "execution_count": null,
   "id": "7388ad1d-5b9e-43ad-b584-8e549d27e103",
   "metadata": {},
   "outputs": [],
   "source": []
  },
  {
   "cell_type": "code",
   "execution_count": null,
   "id": "123ae1ad-b73b-4e3f-9eae-f52d4ee9c235",
   "metadata": {},
   "outputs": [],
   "source": []
  }
 ],
 "metadata": {
  "kernelspec": {
   "display_name": "Python 3 (ipykernel)",
   "language": "python",
   "name": "python3"
  },
  "language_info": {
   "codemirror_mode": {
    "name": "ipython",
    "version": 3
   },
   "file_extension": ".py",
   "mimetype": "text/x-python",
   "name": "python",
   "nbconvert_exporter": "python",
   "pygments_lexer": "ipython3",
   "version": "3.11.7"
  }
 },
 "nbformat": 4,
 "nbformat_minor": 5
}
